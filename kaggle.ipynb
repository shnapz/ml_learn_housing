{
 "cells": [
  {
   "cell_type": "code",
   "execution_count": 1,
   "metadata": {
    "collapsed": true
   },
   "outputs": [],
   "source": [
    "# This Python 3 environment comes with many helpful analytics libraries installed\n",
    "# It is defined by the kaggle/python docker image: https://github.com/kaggle/docker-python\n",
    "# For example, here's several helpful packages to load in \n",
    "\n",
    "import pandas as pd\n",
    "\n",
    "X_train = pd.read_csv(\"input\\\\train_images_mnist.csv\", header=None).values[:5000]\n",
    "y_train = pd.read_csv(\"input\\\\train_labels_mnist.csv\", header=None).values.ravel()[:5000]\n",
    "X_test = pd.read_csv(\"input\\\\test_images_mnist.csv\", header=None).values\n",
    "y_test = pd.read_csv(\"input\\\\test_labels_mnist.csv\", header=None).values.ravel()"
   ]
  },
  {
   "cell_type": "code",
   "execution_count": 2,
   "metadata": {
    "collapsed": true
   },
   "outputs": [],
   "source": [
    "%matplotlib inline\n",
    "import matplotlib\n",
    "import matplotlib.pyplot as plt\n",
    "import numpy as np \n",
    "\n",
    "\n",
    "def plot_digit(digit_image):\n",
    "    plt.imshow(digit_image, cmap=matplotlib.cm.binary, interpolation=\"nearest\")\n",
    "    plt.axis(\"off\")\n",
    "    plt.show()\n",
    "\n",
    "\n",
    "def shift_matrix(matrix, offset_vertical, offset_horizontal):\n",
    "    matrix = np.roll(matrix, offset_vertical, axis=0)\n",
    "    return np.roll(matrix, offset_horizontal, axis=1)\n",
    "\n",
    "\n",
    "X_train_exp = np.array([])\n",
    "y_train_exp = np.array([])\n",
    "n, k = X_train.shape\n",
    "i = 0\n",
    "while i < n:\n",
    "    x = X_train[i]\n",
    "    y = y_train[i]\n",
    "    np.append(X_train_exp, x)\n",
    "    np.append(y_train_exp, y)\n",
    "    np.append(X_train_exp, shift_matrix(x.reshape(28, 28), 1, 0).reshape(k))\n",
    "    np.append(y_train_exp, y)\n",
    "    np.append(X_train_exp, shift_matrix(x.reshape(28, 28), -1, 0).reshape(k))\n",
    "    np.append(y_train_exp, y)\n",
    "    np.append(X_train_exp, shift_matrix(x.reshape(28, 28), 0, 1).reshape(k))\n",
    "    np.append(y_train_exp, y)\n",
    "    np.append(X_train_exp, shift_matrix(x.reshape(28, 28), 0, -1).reshape(k))\n",
    "    np.append(y_train_exp, y)\n",
    "\n",
    "print(\"data expansion ended\")\n",
    "\n",
    "from sklearn.neighbors import KNeighborsClassifier\n",
    "from sklearn.model_selection import cross_val_score, GridSearchCV\n",
    "from sklearn.metrics import accuracy_score\n",
    "\n",
    "knn_clf = KNeighborsClassifier(weights='distance')\n",
    "knn_clf.fit(X_train_exp, y_train_exp)\n",
    "y_pred = knn_clf.predict(X_test)\n",
    "accuracy_score(y_test, y_pred)"
   ]
  },
  {
   "cell_type": "code",
   "execution_count": 3,
   "metadata": {},
   "outputs": [
    {
     "data": {
      "text/plain": [
       "0.9691"
      ]
     },
     "execution_count": 3,
     "metadata": {},
     "output_type": "execute_result"
    }
   ],
   "source": [
    "from sklearn.neighbors import KNeighborsClassifier\n",
    "from sklearn.model_selection import cross_val_score, GridSearchCV\n",
    "from sklearn.metrics import accuracy_score\n",
    "\n",
    "knn_clf = KNeighborsClassifier(weights='distance')\n",
    "knn_clf.fit(X_train, y_train)\n",
    "y_pred = knn_clf.predict(X_test)\n",
    "accuracy_score(y_test, y_pred)"
   ]
  }
 ],
 "metadata": {
  "kernelspec": {
   "display_name": "Python 2",
   "language": "python",
   "name": "python2"
  },
  "language_info": {
   "codemirror_mode": {
    "name": "ipython",
    "version": 2
   },
   "file_extension": ".py",
   "mimetype": "text/x-python",
   "name": "python",
   "nbconvert_exporter": "python",
   "pygments_lexer": "ipython2",
   "version": "2.7.6"
  }
 },
 "nbformat": 4,
 "nbformat_minor": 0
}
